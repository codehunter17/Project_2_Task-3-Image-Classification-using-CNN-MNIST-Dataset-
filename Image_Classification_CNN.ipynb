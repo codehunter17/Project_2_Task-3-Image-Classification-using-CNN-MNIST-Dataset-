{
 "cells": [
  {
   "cell_type": "markdown",
   "id": "5d29ed70",
   "metadata": {},
   "source": [
    "# Image Classification using CNN (Convolutional Neural Network)\n",
    "\n",
    "Building a simple CNN model for image classification using TensorFlow and evaluating its performance."
   ]
  },
  {
   "cell_type": "code",
   "execution_count": null,
   "id": "1b77565c",
   "metadata": {},
   "outputs": [],
   "source": [
    "\n",
    "# Step 1: Import necessary libraries\n",
    "import tensorflow as tf\n",
    "from tensorflow.keras import layers, models\n",
    "from tensorflow.keras.datasets import mnist\n",
    "from tensorflow.keras.utils import to_categorical\n",
    "import matplotlib.pyplot as plt\n"
   ]
  },
  {
   "cell_type": "code",
   "execution_count": null,
   "id": "38e1bce3",
   "metadata": {},
   "outputs": [],
   "source": [
    "\n",
    "# Step 2: Load and preprocess the dataset (MNIST Handwritten Digits)\n",
    "(X_train, y_train), (X_test, y_test) = mnist.load_data()\n",
    "\n",
    "# Normalize the pixel values to between 0 and 1\n",
    "X_train = X_train / 255.0\n",
    "X_test = X_test / 255.0\n",
    "\n",
    "# Reshape data to fit the CNN input\n",
    "X_train = X_train.reshape(-1, 28, 28, 1)\n",
    "X_test = X_test.reshape(-1, 28, 28, 1)\n",
    "\n",
    "# Convert labels to categorical (one-hot encoding)\n",
    "y_train_cat = to_categorical(y_train, 10)\n",
    "y_test_cat = to_categorical(y_test, 10)\n"
   ]
  },
  {
   "cell_type": "code",
   "execution_count": null,
   "id": "804fc5e8",
   "metadata": {},
   "outputs": [],
   "source": [
    "\n",
    "# Step 3: Build the CNN Model\n",
    "model = models.Sequential()\n",
    "\n",
    "model.add(layers.Conv2D(32, (3,3), activation='relu', input_shape=(28,28,1)))\n",
    "model.add(layers.MaxPooling2D((2,2)))\n",
    "\n",
    "model.add(layers.Conv2D(64, (3,3), activation='relu'))\n",
    "model.add(layers.MaxPooling2D((2,2)))\n",
    "\n",
    "model.add(layers.Flatten())\n",
    "model.add(layers.Dense(64, activation='relu'))\n",
    "model.add(layers.Dense(10, activation='softmax'))\n",
    "\n",
    "model.compile(optimizer='adam', loss='categorical_crossentropy', metrics=['accuracy'])\n"
   ]
  },
  {
   "cell_type": "code",
   "execution_count": null,
   "id": "3efc20f8",
   "metadata": {},
   "outputs": [],
   "source": [
    "\n",
    "# Step 4: Train the Model\n",
    "history = model.fit(X_train, y_train_cat, epochs=5, validation_split=0.1)\n"
   ]
  },
  {
   "cell_type": "code",
   "execution_count": null,
   "id": "6801b74f",
   "metadata": {},
   "outputs": [],
   "source": [
    "\n",
    "# Step 5: Evaluate the Model on Test Data\n",
    "test_loss, test_accuracy = model.evaluate(X_test, y_test_cat)\n",
    "print(f\"Test Accuracy: {test_accuracy:.4f}\")\n"
   ]
  },
  {
   "cell_type": "code",
   "execution_count": null,
   "id": "9d2b2c68",
   "metadata": {},
   "outputs": [],
   "source": [
    "\n",
    "# Step 6: Plot Accuracy and Loss Graphs\n",
    "plt.figure(figsize=(12,5))\n",
    "\n",
    "plt.subplot(1,2,1)\n",
    "plt.plot(history.history['accuracy'], label='Training Accuracy')\n",
    "plt.plot(history.history['val_accuracy'], label='Validation Accuracy')\n",
    "plt.title('Model Accuracy')\n",
    "plt.xlabel('Epoch')\n",
    "plt.ylabel('Accuracy')\n",
    "plt.legend()\n",
    "\n",
    "plt.subplot(1,2,2)\n",
    "plt.plot(history.history['loss'], label='Training Loss')\n",
    "plt.plot(history.history['val_loss'], label='Validation Loss')\n",
    "plt.title('Model Loss')\n",
    "plt.xlabel('Epoch')\n",
    "plt.ylabel('Loss')\n",
    "plt.legend()\n",
    "\n",
    "plt.tight_layout()\n",
    "plt.show()\n"
   ]
  },
  {
   "cell_type": "code",
   "execution_count": null,
   "id": "d7aa80be",
   "metadata": {},
   "outputs": [],
   "source": [
    "\n",
    "# Step 7: Make Prediction on New Sample Images\n",
    "import numpy as np\n",
    "\n",
    "sample_images = X_test[:5]\n",
    "sample_labels = y_test[:5]\n",
    "predictions = model.predict(sample_images)\n",
    "\n",
    "for i in range(5):\n",
    "    plt.imshow(sample_images[i].reshape(28,28), cmap='gray')\n",
    "    plt.title(f\"Actual: {sample_labels[i]}, Predicted: {np.argmax(predictions[i])}\")\n",
    "    plt.axis('off')\n",
    "    plt.show()\n"
   ]
  }
 ],
 "metadata": {},
 "nbformat": 4,
 "nbformat_minor": 5
}
